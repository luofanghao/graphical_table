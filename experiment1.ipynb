{
 "cells": [
  {
   "cell_type": "code",
   "execution_count": 114,
   "metadata": {},
   "outputs": [
    {
     "name": "stdout",
     "output_type": "stream",
     "text": [
      "The autoreload extension is already loaded. To reload it, use:\n",
      "  %reload_ext autoreload\n"
     ]
    }
   ],
   "source": [
    "%load_ext autoreload\n",
    "%autoreload 2\n",
    "\n",
    "from graphical_table import read_dataset, make_graph\n",
    "\n",
    "data_path = \"/Users/luofanghao/work/USC_lab/isi-II/work/DSBox_project/dsbox-data/o_38/original/data/trainData.csv\"\n",
    "data = read_dataset(data_path)"
   ]
  },
  {
   "cell_type": "code",
   "execution_count": 120,
   "metadata": {},
   "outputs": [],
   "source": [
    "graph = make_graph(data)"
   ]
  },
  {
   "cell_type": "code",
   "execution_count": 128,
   "metadata": {},
   "outputs": [],
   "source": [
    "# nx.write_adjlist(graph,\"./o_38_graph.txt\")     # adj list by networkx\n",
    "\n",
    "from graphical_table import get_list\n",
    "ad_list = get_list(graph)\n",
    "with open(\"./o_38_line_input.txt\", \"w\") as f:\n",
    "    for line in ad_list:\n",
    "        f.write(line)\n",
    "        f.write(\"\\n\")\n",
    "\n",
    "f.close()"
   ]
  },
  {
   "cell_type": "code",
   "execution_count": 116,
   "metadata": {},
   "outputs": [
    {
     "name": "stdout",
     "output_type": "stream",
     "text": [
      "('I131_treatment-0', {'type': 'categorical'})\n",
      "('I131_treatment-1', {'type': 'categorical'})\n",
      "('TSH-1.0', {'type': 'categorical'})\n",
      "('T3-1.0', {'type': 'categorical'})\n",
      "('TBG_measured-0', {'type': 'categorical'})\n",
      "('TT4-0.0', {'type': 'categorical'})\n",
      "('query_hyperthyroid-1', {'type': 'categorical'})\n",
      "('query_hyperthyroid-0', {'type': 'categorical'})\n",
      "('T4U-1.0', {'type': 'categorical'})\n",
      "('TSH-0.0', {'type': 'categorical'})\n",
      "('T3-0.0', {'type': 'categorical'})\n",
      "('sick-1', {'type': 'categorical'})\n",
      "('sick-0', {'type': 'categorical'})\n",
      "('hypopituitary-1', {'type': 'categorical'})\n",
      "('hypopituitary-0', {'type': 'categorical'})\n",
      "('T3-4.0', {'type': 'categorical'})\n",
      "('T4U-0.0', {'type': 'categorical'})\n",
      "('FTI_measured-1', {'type': 'categorical'})\n",
      "('FTI_measured-0', {'type': 'categorical'})\n",
      "('TSH-3.0', {'type': 'categorical'})\n",
      "('age-1.0', {'type': 'categorical'})\n",
      "('TT4-2.0', {'type': 'categorical'})\n",
      "('age-4.0', {'type': 'categorical'})\n",
      "('sex-0', {'type': 'categorical'})\n",
      "('sex-1', {'type': 'categorical'})\n",
      "('TSH-2.0', {'type': 'categorical'})\n",
      "('lithium-0', {'type': 'categorical'})\n",
      "('lithium-1', {'type': 'categorical'})\n",
      "('age-0.0', {'type': 'categorical'})\n",
      "('TT4-3.0', {'type': 'categorical'})\n",
      "('T3_measured-1', {'type': 'categorical'})\n",
      "('tumor-1', {'type': 'categorical'})\n",
      "('referral_source-3', {'type': 'categorical'})\n",
      "('referral_source-2', {'type': 'categorical'})\n",
      "('referral_source-1', {'type': 'categorical'})\n",
      "('referral_source-0', {'type': 'categorical'})\n",
      "('T3_measured-0', {'type': 'categorical'})\n",
      "('FTI-3.0', {'type': 'categorical'})\n",
      "('tumor-0', {'type': 'categorical'})\n",
      "('T3-3.0', {'type': 'categorical'})\n",
      "('T4U-3.0', {'type': 'categorical'})\n",
      "('FTI-2.0', {'type': 'categorical'})\n",
      "('TT4-4.0', {'type': 'categorical'})\n",
      "('thyroid_surgery-1', {'type': 'categorical'})\n",
      "('thyroid_surgery-0', {'type': 'categorical'})\n",
      "('T3-2.0', {'type': 'categorical'})\n",
      "('query_on_thyroxine-0', {'type': 'categorical'})\n",
      "('query_on_thyroxine-1', {'type': 'categorical'})\n",
      "('query_hypothyroid-0', {'type': 'categorical'})\n",
      "('query_hypothyroid-1', {'type': 'categorical'})\n",
      "('T4U-2.0', {'type': 'categorical'})\n",
      "('on_thyroxine-1', {'type': 'categorical'})\n",
      "('on_thyroxine-0', {'type': 'categorical'})\n",
      "('TT4_measured-0', {'type': 'categorical'})\n",
      "('TT4_measured-1', {'type': 'categorical'})\n",
      "('TSH_measured-1', {'type': 'categorical'})\n",
      "('TSH_measured-0', {'type': 'categorical'})\n",
      "('age-3.0', {'type': 'categorical'})\n",
      "('on_antithyroid_medication-1', {'type': 'categorical'})\n",
      "('on_antithyroid_medication-0', {'type': 'categorical'})\n",
      "('referral_source-4', {'type': 'categorical'})\n",
      "('TSH-4.0', {'type': 'categorical'})\n",
      "('goitre-1', {'type': 'categorical'})\n",
      "('goitre-0', {'type': 'categorical'})\n",
      "('age-2.0', {'type': 'categorical'})\n",
      "('FTI-1.0', {'type': 'categorical'})\n",
      "('pregnant-0', {'type': 'categorical'})\n",
      "('pregnant-1', {'type': 'categorical'})\n",
      "('T4U_measured-1', {'type': 'categorical'})\n",
      "('T4U_measured-0', {'type': 'categorical'})\n",
      "('FTI-4.0', {'type': 'categorical'})\n",
      "('T4U-4.0', {'type': 'categorical'})\n",
      "('TT4-1.0', {'type': 'categorical'})\n",
      "('psych-1', {'type': 'categorical'})\n",
      "('FTI-0.0', {'type': 'categorical'})\n",
      "('psych-0', {'type': 'categorical'})\n"
     ]
    }
   ],
   "source": [
    "for node in graph.nodes(data=True):\n",
    "    if (node[1]['type'] == 'categorical'):\n",
    "        print node"
   ]
  },
  {
   "cell_type": "code",
   "execution_count": 117,
   "metadata": {},
   "outputs": [
    {
     "name": "stdout",
     "output_type": "stream",
     "text": [
      "sex-0\n",
      "row_2432\n",
      "sex\n"
     ]
    }
   ],
   "source": [
    "for i in graph.neighbors(\"1_2432\"):\n",
    "    print i"
   ]
  },
  {
   "cell_type": "code",
   "execution_count": null,
   "metadata": {
    "collapsed": true
   },
   "outputs": [],
   "source": []
  }
 ],
 "metadata": {
  "kernelspec": {
   "display_name": "Python 2",
   "language": "python",
   "name": "python2"
  },
  "language_info": {
   "codemirror_mode": {
    "name": "ipython",
    "version": 2
   },
   "file_extension": ".py",
   "mimetype": "text/x-python",
   "name": "python",
   "nbconvert_exporter": "python",
   "pygments_lexer": "ipython2",
   "version": "2.7.13"
  }
 },
 "nbformat": 4,
 "nbformat_minor": 2
}
